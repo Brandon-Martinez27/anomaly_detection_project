{
 "cells": [
  {
   "cell_type": "markdown",
   "metadata": {},
   "source": [
    "# Time Series Anomaly Detection\n",
    "## Codeup's Curriculum Access Logs\n",
    "\n",
    "### Programs:\n",
    "- Data Science\n",
    "- Web Development\n",
    "\n",
    "### Goals for each program:\n",
    "1. Find lessons where the *most amount of traffic occurs*\n",
    "2. Is there a cohort that referred to a lesson more than any other?\n",
    "3. Are there any students, while active, who didn't access the curriculum? \n",
    "    - If so, what can be said about these students?\n",
    "4. Is there any suspicious activity, such as entities accessing the curriculum who aren't authorized? \n",
    "    - Does it appear that any web-scraping is happening? \n",
    "    - Are there any suspicious IP addresses?\n",
    "    - Any odd user-agents?\n",
    "5. At some point in the last year, ability for students and alumni to cross-access curriculum (web dev to ds, ds to web dev) should have been shut off. \n",
    "    - Do you see any evidence of that happening? \n",
    "    - Did it happen before? \n",
    "6. What topics are grads continuing to reference after graduation and into their jobs (for each program)?\n",
    "    - Which lessons are least accessed? \n",
    "7. Anything else anomalous? "
   ]
  },
  {
   "cell_type": "code",
   "execution_count": 1,
   "metadata": {},
   "outputs": [],
   "source": [
    "import numpy as np\n",
    "import pandas as pd\n",
    "import math\n",
    "from sklearn import metrics\n",
    "\n",
    "from scipy.stats import entropy\n",
    "\n",
    "import warnings\n",
    "warnings.filterwarnings(\"ignore\")\n",
    "import matplotlib.pyplot as plt\n",
    "import matplotlib.dates as mdates #to format dates on our plots\n",
    "%matplotlib inline\n",
    "import seaborn as sns\n",
    "\n",
    "from wrangle import wrangle_logs\n",
    "\n",
    "# This is to make sure matplotlib doesn't throw the following error:\n",
    "# The next line fixes \"TypeError: float() argument must be a string or a number, not 'Timestamp' matplotlib\"\n",
    "pd.plotting.register_matplotlib_converters()"
   ]
  },
  {
   "cell_type": "markdown",
   "metadata": {},
   "source": [
    "# Wrangling"
   ]
  },
  {
   "cell_type": "code",
   "execution_count": 8,
   "metadata": {},
   "outputs": [],
   "source": [
    "df, no_id = wrangle_logs()"
   ]
  },
  {
   "cell_type": "code",
   "execution_count": 5,
   "metadata": {},
   "outputs": [
    {
     "name": "stdout",
     "output_type": "stream",
     "text": [
      "<class 'pandas.core.frame.DataFrame'>\n",
      "DatetimeIndex: 674618 entries, 2018-01-26 09:55:03 to 2020-11-02 16:48:47\n",
      "Data columns (total 8 columns):\n",
      " #   Column      Non-Null Count   Dtype         \n",
      "---  ------      --------------   -----         \n",
      " 0   page        674618 non-null  object        \n",
      " 1   user_id     674618 non-null  int64         \n",
      " 2   cohort_id   674618 non-null  int64         \n",
      " 3   ip          674618 non-null  object        \n",
      " 4   name        674618 non-null  object        \n",
      " 5   start_date  674618 non-null  datetime64[ns]\n",
      " 6   end_date    674618 non-null  datetime64[ns]\n",
      " 7   program_id  674618 non-null  int64         \n",
      "dtypes: datetime64[ns](2), int64(3), object(3)\n",
      "memory usage: 46.3+ MB\n"
     ]
    }
   ],
   "source": [
    "df.info()"
   ]
  },
  {
   "cell_type": "code",
   "execution_count": 6,
   "metadata": {},
   "outputs": [
    {
     "name": "stdout",
     "output_type": "stream",
     "text": [
      "<class 'pandas.core.frame.DataFrame'>\n",
      "DatetimeIndex: 44840 entries, 2018-01-26 16:46:16 to 2020-11-02 16:30:49\n",
      "Data columns (total 4 columns):\n",
      " #   Column     Non-Null Count  Dtype  \n",
      "---  ------     --------------  -----  \n",
      " 0   page       44840 non-null  object \n",
      " 1   user_id    44840 non-null  int64  \n",
      " 2   cohort_id  44840 non-null  float64\n",
      " 3   ip         44840 non-null  object \n",
      "dtypes: float64(1), int64(1), object(2)\n",
      "memory usage: 1.7+ MB\n"
     ]
    }
   ],
   "source": [
    "no_id.info()"
   ]
  },
  {
   "cell_type": "code",
   "execution_count": 15,
   "metadata": {},
   "outputs": [
    {
     "name": "stdout",
     "output_type": "stream",
     "text": [
      "Curriculum Access History\n",
      "2018-01-26 09:55:03\n",
      "2020-11-02 16:48:47 \n",
      "\n",
      "Cohorts with no ID\n",
      "2018-01-26 16:46:16\n",
      "2020-11-02 16:30:49\n"
     ]
    }
   ],
   "source": [
    "print('Curriculum Access History')\n",
    "print(df.index.min()) \n",
    "print(df.index.max(), '\\n')\n",
    "\n",
    "print('Cohorts with no ID')\n",
    "print(no_id.index.min()) \n",
    "print(no_id.index.max())"
   ]
  },
  {
   "cell_type": "markdown",
   "metadata": {},
   "source": [
    "**Summary**:\n",
    "- 44840 null values in `cohort_id`\n",
    "    - separated into \"no_id\" dataframe\n",
    "- 674618 total entries with `cohort_id`\n",
    "    - prepared with extra columns on\n",
    "        - cohort `name`\n",
    "        - `start_date`\n",
    "        - `end_date`\n",
    "        - `program_id`"
   ]
  },
  {
   "cell_type": "code",
   "execution_count": null,
   "metadata": {},
   "outputs": [],
   "source": []
  }
 ],
 "metadata": {
  "kernelspec": {
   "display_name": "Python 3",
   "language": "python",
   "name": "python3"
  },
  "language_info": {
   "codemirror_mode": {
    "name": "ipython",
    "version": 3
   },
   "file_extension": ".py",
   "mimetype": "text/x-python",
   "name": "python",
   "nbconvert_exporter": "python",
   "pygments_lexer": "ipython3",
   "version": "3.7.6"
  }
 },
 "nbformat": 4,
 "nbformat_minor": 4
}
