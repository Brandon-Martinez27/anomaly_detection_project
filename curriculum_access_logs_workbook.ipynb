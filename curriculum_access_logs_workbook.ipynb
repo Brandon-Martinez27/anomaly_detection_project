{
 "cells": [
  {
   "cell_type": "markdown",
   "metadata": {},
   "source": [
    "# Time Series Anomaly Detection\n",
    "### *Codeup's Curriculum Access Logs*\n",
    "\n",
    "#### Programs:\n",
    "- Data Science\n",
    "- Web Development\n",
    "\n",
    "#### Goals for each program:\n",
    ">1. Find lessons where the *most amount of traffic occurs*\n",
    "2. Is there a cohort that referred to a lesson more than any other?\n",
    "3. Are there any students, while active, who didn't access the curriculum much? \n",
    "    - If so, what can be said about these students?\n",
    "4. Is there any suspicious activity, such as entities accessing the curriculum who aren't authorized? \n",
    "    - Does it appear that any web-scraping is happening? \n",
    "    - Are there any suspicious IP addresses?\n",
    "    - Any odd user-agents?\n",
    "5. At some point in the last year, ability for students and alumni to cross-access curriculum (web dev to ds, ds to web dev) should have been shut off. \n",
    "    - Do you see any evidence of that happening? \n",
    "    - Did it happen before? \n",
    "6. What topics are grads continuing to reference after graduation and into their jobs (for each program)?\n",
    "    - Which lessons are least accessed?\n",
    "7. Anything else anomalous? \n",
    "\n",
    "---"
   ]
  },
  {
   "cell_type": "code",
   "execution_count": 1,
   "metadata": {},
   "outputs": [],
   "source": [
    "import numpy as np\n",
    "import pandas as pd\n",
    "import math\n",
    "from sklearn import metrics\n",
    "\n",
    "from scipy.stats import entropy\n",
    "\n",
    "import warnings\n",
    "warnings.filterwarnings(\"ignore\")\n",
    "import matplotlib.pyplot as plt\n",
    "import matplotlib.dates as mdates #to format dates on our plots\n",
    "%matplotlib inline\n",
    "import seaborn as sns\n",
    "\n",
    "from wrangle import wrangle_logs\n",
    "import requests\n",
    "\n",
    "# This is to make sure matplotlib doesn't throw the following error:\n",
    "# The next line fixes \"TypeError: float() argument must be a string or a number, not 'Timestamp' matplotlib\"\n",
    "pd.plotting.register_matplotlib_converters()"
   ]
  },
  {
   "cell_type": "markdown",
   "metadata": {},
   "source": [
    "---\n",
    "## Wrangling"
   ]
  },
  {
   "cell_type": "markdown",
   "metadata": {},
   "source": [
    "`df`: all logs that have a cohort_id\n",
    "\n",
    "`no_id`: logs that don't have a cohort_id"
   ]
  },
  {
   "cell_type": "code",
   "execution_count": 2,
   "metadata": {},
   "outputs": [],
   "source": [
    "# wrangle data from local file \n",
    "df, no_id = wrangle_logs()"
   ]
  },
  {
   "cell_type": "markdown",
   "metadata": {},
   "source": [
    "Summarize `df` & `no_id`"
   ]
  },
  {
   "cell_type": "code",
   "execution_count": 6,
   "metadata": {},
   "outputs": [
    {
     "name": "stdout",
     "output_type": "stream",
     "text": [
      "<class 'pandas.core.frame.DataFrame'>\n",
      "DatetimeIndex: 581754 entries, 2018-01-26 09:56:02 to 2020-11-02 16:48:47\n",
      "Data columns (total 11 columns):\n",
      " #   Column          Non-Null Count   Dtype         \n",
      "---  ------          --------------   -----         \n",
      " 0   page            581754 non-null  object        \n",
      " 1   user_id         581754 non-null  int64         \n",
      " 2   cohort_id       581754 non-null  int64         \n",
      " 3   ip              581754 non-null  object        \n",
      " 4   name            581754 non-null  object        \n",
      " 5   start_date      581754 non-null  datetime64[ns]\n",
      " 6   end_date        581754 non-null  datetime64[ns]\n",
      " 7   program_id      581754 non-null  int64         \n",
      " 8   days_active     581754 non-null  int64         \n",
      " 9   program_length  581754 non-null  int64         \n",
      " 10  post_access     581754 non-null  int64         \n",
      "dtypes: datetime64[ns](2), int64(6), object(3)\n",
      "memory usage: 53.3+ MB\n"
     ]
    }
   ],
   "source": [
    "df.info()"
   ]
  },
  {
   "cell_type": "code",
   "execution_count": 7,
   "metadata": {},
   "outputs": [
    {
     "name": "stdout",
     "output_type": "stream",
     "text": [
      "<class 'pandas.core.frame.DataFrame'>\n",
      "DatetimeIndex: 44840 entries, 2018-01-26 16:46:16 to 2020-11-02 16:30:49\n",
      "Data columns (total 4 columns):\n",
      " #   Column     Non-Null Count  Dtype  \n",
      "---  ------     --------------  -----  \n",
      " 0   page       44840 non-null  object \n",
      " 1   user_id    44840 non-null  int64  \n",
      " 2   cohort_id  44840 non-null  float64\n",
      " 3   ip         44840 non-null  object \n",
      "dtypes: float64(1), int64(1), object(2)\n",
      "memory usage: 1.7+ MB\n"
     ]
    }
   ],
   "source": [
    "no_id.info()"
   ]
  },
  {
   "cell_type": "code",
   "execution_count": 8,
   "metadata": {},
   "outputs": [
    {
     "name": "stdout",
     "output_type": "stream",
     "text": [
      "Curriculum Access History\n",
      "2018-01-26 09:56:02\n",
      "2020-11-02 16:48:47 \n",
      "\n",
      "Cohorts with no ID\n",
      "2018-01-26 16:46:16\n",
      "2020-11-02 16:30:49\n"
     ]
    }
   ],
   "source": [
    "# print of in and max dates\n",
    "print('Curriculum Access History')\n",
    "print(df.index.min()) \n",
    "print(df.index.max(), '\\n')\n",
    "\n",
    "print('Cohorts with no ID')\n",
    "print(no_id.index.min()) \n",
    "print(no_id.index.max())"
   ]
  },
  {
   "cell_type": "markdown",
   "metadata": {},
   "source": [
    "Web Development and Data Science Dataframes"
   ]
  },
  {
   "cell_type": "code",
   "execution_count": 9,
   "metadata": {},
   "outputs": [],
   "source": [
    "# created different data frames that split up each program from original df\n",
    "ds = df[df.program_id == 3]\n",
    "wd = df[df.program_id != 3]"
   ]
  },
  {
   "cell_type": "markdown",
   "metadata": {},
   "source": [
    ">**Summary**:\n",
    "- 44840 null values in `cohort_id`\n",
    "    - separated into **no_id** dataframe\n",
    "- 581754 total entries with `cohort_id`\n",
    "    - prepared with extra columns on\n",
    "        - cohort `name`\n",
    "        - `start_date`\n",
    "        - `end_date`\n",
    "        - `program_id`\n",
    "- wrangle.py\n",
    "    - read data from 2 sources\n",
    "    - change data types for exploration\n",
    "    - index set to date\n",
    "    - created 2 dataframes\n",
    "    - merged data for cohorts"
   ]
  },
  {
   "cell_type": "markdown",
   "metadata": {},
   "source": [
    "---\n",
    "## Exploration\n",
    "\n",
    "<div class=\"alert alert-block alert-info\">1. Which lesson appears to attract the most traffic consistently across cohorts (per program)?</div>"
   ]
  },
  {
   "cell_type": "markdown",
   "metadata": {},
   "source": [
    "#### Web Development"
   ]
  },
  {
   "cell_type": "code",
   "execution_count": 10,
   "metadata": {
    "scrolled": true
   },
   "outputs": [
    {
     "data": {
      "text/html": [
       "<div>\n",
       "<style scoped>\n",
       "    .dataframe tbody tr th:only-of-type {\n",
       "        vertical-align: middle;\n",
       "    }\n",
       "\n",
       "    .dataframe tbody tr th {\n",
       "        vertical-align: top;\n",
       "    }\n",
       "\n",
       "    .dataframe thead th {\n",
       "        text-align: right;\n",
       "    }\n",
       "</style>\n",
       "<table border=\"1\" class=\"dataframe\">\n",
       "  <thead>\n",
       "    <tr style=\"text-align: right;\">\n",
       "      <th></th>\n",
       "      <th>count</th>\n",
       "    </tr>\n",
       "  </thead>\n",
       "  <tbody>\n",
       "    <tr>\n",
       "      <th>toc</th>\n",
       "      <td>12740</td>\n",
       "    </tr>\n",
       "    <tr>\n",
       "      <th>javascript-i</th>\n",
       "      <td>12608</td>\n",
       "    </tr>\n",
       "    <tr>\n",
       "      <th>search/search_index.json</th>\n",
       "      <td>11152</td>\n",
       "    </tr>\n",
       "    <tr>\n",
       "      <th>java-iii</th>\n",
       "      <td>9681</td>\n",
       "    </tr>\n",
       "    <tr>\n",
       "      <th>html-css</th>\n",
       "      <td>9351</td>\n",
       "    </tr>\n",
       "  </tbody>\n",
       "</table>\n",
       "</div>"
      ],
      "text/plain": [
       "                          count\n",
       "toc                       12740\n",
       "javascript-i              12608\n",
       "search/search_index.json  11152\n",
       "java-iii                   9681\n",
       "html-css                   9351"
      ]
     },
     "execution_count": 10,
     "metadata": {},
     "output_type": "execute_result"
    }
   ],
   "source": [
    "# top total page views\n",
    "pd.DataFrame(wd.page.value_counts().head()).rename(columns={'page':'count'})"
   ]
  },
  {
   "cell_type": "code",
   "execution_count": 11,
   "metadata": {},
   "outputs": [
    {
     "data": {
      "text/html": [
       "<div>\n",
       "<style scoped>\n",
       "    .dataframe tbody tr th:only-of-type {\n",
       "        vertical-align: middle;\n",
       "    }\n",
       "\n",
       "    .dataframe tbody tr th {\n",
       "        vertical-align: top;\n",
       "    }\n",
       "\n",
       "    .dataframe thead th {\n",
       "        text-align: right;\n",
       "    }\n",
       "</style>\n",
       "<table border=\"1\" class=\"dataframe\">\n",
       "  <thead>\n",
       "    <tr style=\"text-align: right;\">\n",
       "      <th></th>\n",
       "      <th></th>\n",
       "      <th>0</th>\n",
       "    </tr>\n",
       "    <tr>\n",
       "      <th>page</th>\n",
       "      <th>name</th>\n",
       "      <th></th>\n",
       "    </tr>\n",
       "  </thead>\n",
       "  <tbody>\n",
       "    <tr>\n",
       "      <th>toc</th>\n",
       "      <th>Zion</th>\n",
       "      <td>1455</td>\n",
       "    </tr>\n",
       "    <tr>\n",
       "      <th rowspan=\"2\" valign=\"top\">search/search_index.json</th>\n",
       "      <th>Ceres</th>\n",
       "      <td>1372</td>\n",
       "    </tr>\n",
       "    <tr>\n",
       "      <th>Apex</th>\n",
       "      <td>1358</td>\n",
       "    </tr>\n",
       "    <tr>\n",
       "      <th>toc</th>\n",
       "      <th>Fortuna</th>\n",
       "      <td>1261</td>\n",
       "    </tr>\n",
       "    <tr>\n",
       "      <th>search/search_index.json</th>\n",
       "      <th>Ganymede</th>\n",
       "      <td>1049</td>\n",
       "    </tr>\n",
       "  </tbody>\n",
       "</table>\n",
       "</div>"
      ],
      "text/plain": [
       "                                      0\n",
       "page                     name          \n",
       "toc                      Zion      1455\n",
       "search/search_index.json Ceres     1372\n",
       "                         Apex      1358\n",
       "toc                      Fortuna   1261\n",
       "search/search_index.json Ganymede  1049"
      ]
     },
     "execution_count": 11,
     "metadata": {},
     "output_type": "execute_result"
    }
   ],
   "source": [
    "# top page views per cohort\n",
    "pd.DataFrame(wd.groupby(['page', 'name']).size().sort_values(ascending=False)).head()"
   ]
  },
  {
   "cell_type": "markdown",
   "metadata": {},
   "source": [
    "#### Data Science"
   ]
  },
  {
   "cell_type": "code",
   "execution_count": 12,
   "metadata": {},
   "outputs": [
    {
     "data": {
      "text/html": [
       "<div>\n",
       "<style scoped>\n",
       "    .dataframe tbody tr th:only-of-type {\n",
       "        vertical-align: middle;\n",
       "    }\n",
       "\n",
       "    .dataframe tbody tr th {\n",
       "        vertical-align: top;\n",
       "    }\n",
       "\n",
       "    .dataframe thead th {\n",
       "        text-align: right;\n",
       "    }\n",
       "</style>\n",
       "<table border=\"1\" class=\"dataframe\">\n",
       "  <thead>\n",
       "    <tr style=\"text-align: right;\">\n",
       "      <th></th>\n",
       "      <th>count</th>\n",
       "    </tr>\n",
       "  </thead>\n",
       "  <tbody>\n",
       "    <tr>\n",
       "      <th>1-fundamentals/modern-data-scientist.jpg</th>\n",
       "      <td>1560</td>\n",
       "    </tr>\n",
       "    <tr>\n",
       "      <th>1-fundamentals/AI-ML-DL-timeline.jpg</th>\n",
       "      <td>1554</td>\n",
       "    </tr>\n",
       "    <tr>\n",
       "      <th>1-fundamentals/1.1-intro-to-data-science</th>\n",
       "      <td>1532</td>\n",
       "    </tr>\n",
       "    <tr>\n",
       "      <th>search/search_index.json</th>\n",
       "      <td>1330</td>\n",
       "    </tr>\n",
       "    <tr>\n",
       "      <th>6-regression/1-overview</th>\n",
       "      <td>1122</td>\n",
       "    </tr>\n",
       "  </tbody>\n",
       "</table>\n",
       "</div>"
      ],
      "text/plain": [
       "                                          count\n",
       "1-fundamentals/modern-data-scientist.jpg   1560\n",
       "1-fundamentals/AI-ML-DL-timeline.jpg       1554\n",
       "1-fundamentals/1.1-intro-to-data-science   1532\n",
       "search/search_index.json                   1330\n",
       "6-regression/1-overview                    1122"
      ]
     },
     "execution_count": 12,
     "metadata": {},
     "output_type": "execute_result"
    }
   ],
   "source": [
    "# top total page views\n",
    "pd.DataFrame(ds.page.value_counts().head()).rename(columns={'page':'count'})"
   ]
  },
  {
   "cell_type": "code",
   "execution_count": 13,
   "metadata": {},
   "outputs": [
    {
     "data": {
      "text/html": [
       "<div>\n",
       "<style scoped>\n",
       "    .dataframe tbody tr th:only-of-type {\n",
       "        vertical-align: middle;\n",
       "    }\n",
       "\n",
       "    .dataframe tbody tr th {\n",
       "        vertical-align: top;\n",
       "    }\n",
       "\n",
       "    .dataframe thead th {\n",
       "        text-align: right;\n",
       "    }\n",
       "</style>\n",
       "<table border=\"1\" class=\"dataframe\">\n",
       "  <thead>\n",
       "    <tr style=\"text-align: right;\">\n",
       "      <th></th>\n",
       "      <th></th>\n",
       "      <th>0</th>\n",
       "    </tr>\n",
       "    <tr>\n",
       "      <th>page</th>\n",
       "      <th>name</th>\n",
       "      <th></th>\n",
       "    </tr>\n",
       "  </thead>\n",
       "  <tbody>\n",
       "    <tr>\n",
       "      <th>classification/overview</th>\n",
       "      <th>Darden</th>\n",
       "      <td>756</td>\n",
       "    </tr>\n",
       "    <tr>\n",
       "      <th>1-fundamentals/modern-data-scientist.jpg</th>\n",
       "      <th>Bayes</th>\n",
       "      <td>625</td>\n",
       "    </tr>\n",
       "    <tr>\n",
       "      <th>1-fundamentals/AI-ML-DL-timeline.jpg</th>\n",
       "      <th>Bayes</th>\n",
       "      <td>623</td>\n",
       "    </tr>\n",
       "    <tr>\n",
       "      <th>1-fundamentals/1.1-intro-to-data-science</th>\n",
       "      <th>Bayes</th>\n",
       "      <td>614</td>\n",
       "    </tr>\n",
       "    <tr>\n",
       "      <th>6-regression/1-overview</th>\n",
       "      <th>Curie</th>\n",
       "      <td>594</td>\n",
       "    </tr>\n",
       "  </tbody>\n",
       "</table>\n",
       "</div>"
      ],
      "text/plain": [
       "                                                   0\n",
       "page                                     name       \n",
       "classification/overview                  Darden  756\n",
       "1-fundamentals/modern-data-scientist.jpg Bayes   625\n",
       "1-fundamentals/AI-ML-DL-timeline.jpg     Bayes   623\n",
       "1-fundamentals/1.1-intro-to-data-science Bayes   614\n",
       "6-regression/1-overview                  Curie   594"
      ]
     },
     "execution_count": 13,
     "metadata": {},
     "output_type": "execute_result"
    }
   ],
   "source": [
    "# top page views per cohort\n",
    "pd.DataFrame(ds.groupby(['page', 'name']).size().sort_values(ascending=False)).head()"
   ]
  },
  {
   "cell_type": "markdown",
   "metadata": {},
   "source": [
    "> **Summary**:\n",
    "- WD: \n",
    "    - highest traffic lessons: \n",
    "        - 'toc' \n",
    "        - 'search/search_index.json'\n",
    "    - cohorts accessing these lessons the most:\n",
    "        - Zion\n",
    "        - Ceres\n",
    "        - Apex\n",
    "        - Fortuna\n",
    "        - Ganymede\n",
    "- DS:\n",
    "    - highest traffic lessons: \n",
    "        - 'classification/overview' \n",
    "        - '1-fundamentals/1.1-intro-to-data-science'\n",
    "    - cohorts accessing these lessons the most:\n",
    "        - Darden\n",
    "        - Bayes"
   ]
  },
  {
   "cell_type": "markdown",
   "metadata": {},
   "source": [
    "---\n",
    "<div class=\"alert alert-block alert-info\">2. Is there a cohort that referred to a lesson significantly more that other cohorts seemed to gloss over?</div>"
   ]
  },
  {
   "cell_type": "markdown",
   "metadata": {},
   "source": [
    "### Web Development\n",
    "\n",
    "Top Lessons:\n",
    "    - toc\n",
    "    - search/search_index.json"
   ]
  },
  {
   "cell_type": "code",
   "execution_count": 14,
   "metadata": {},
   "outputs": [
    {
     "data": {
      "text/html": [
       "<div>\n",
       "<style scoped>\n",
       "    .dataframe tbody tr th:only-of-type {\n",
       "        vertical-align: middle;\n",
       "    }\n",
       "\n",
       "    .dataframe tbody tr th {\n",
       "        vertical-align: top;\n",
       "    }\n",
       "\n",
       "    .dataframe thead th {\n",
       "        text-align: right;\n",
       "    }\n",
       "</style>\n",
       "<table border=\"1\" class=\"dataframe\">\n",
       "  <thead>\n",
       "    <tr style=\"text-align: right;\">\n",
       "      <th></th>\n",
       "      <th></th>\n",
       "      <th>page</th>\n",
       "    </tr>\n",
       "    <tr>\n",
       "      <th>name</th>\n",
       "      <th>page</th>\n",
       "      <th></th>\n",
       "    </tr>\n",
       "  </thead>\n",
       "  <tbody>\n",
       "    <tr>\n",
       "      <th>Zion</th>\n",
       "      <th>toc</th>\n",
       "      <td>1455</td>\n",
       "    </tr>\n",
       "    <tr>\n",
       "      <th>Ceres</th>\n",
       "      <th>search/search_index.json</th>\n",
       "      <td>1372</td>\n",
       "    </tr>\n",
       "    <tr>\n",
       "      <th>Apex</th>\n",
       "      <th>search/search_index.json</th>\n",
       "      <td>1358</td>\n",
       "    </tr>\n",
       "    <tr>\n",
       "      <th>Fortuna</th>\n",
       "      <th>toc</th>\n",
       "      <td>1261</td>\n",
       "    </tr>\n",
       "    <tr>\n",
       "      <th>Ganymede</th>\n",
       "      <th>search/search_index.json</th>\n",
       "      <td>1049</td>\n",
       "    </tr>\n",
       "    <tr>\n",
       "      <th>Fortuna</th>\n",
       "      <th>search/search_index.json</th>\n",
       "      <td>985</td>\n",
       "    </tr>\n",
       "    <tr>\n",
       "      <th>Wrangell</th>\n",
       "      <th>toc</th>\n",
       "      <td>982</td>\n",
       "    </tr>\n",
       "    <tr>\n",
       "      <th>Ceres</th>\n",
       "      <th>javascript-i</th>\n",
       "      <td>975</td>\n",
       "    </tr>\n",
       "    <tr>\n",
       "      <th>Hyperion</th>\n",
       "      <th>toc</th>\n",
       "      <td>972</td>\n",
       "    </tr>\n",
       "    <tr>\n",
       "      <th>Europa</th>\n",
       "      <th>toc</th>\n",
       "      <td>944</td>\n",
       "    </tr>\n",
       "  </tbody>\n",
       "</table>\n",
       "</div>"
      ],
      "text/plain": [
       "                                   page\n",
       "name     page                          \n",
       "Zion     toc                       1455\n",
       "Ceres    search/search_index.json  1372\n",
       "Apex     search/search_index.json  1358\n",
       "Fortuna  toc                       1261\n",
       "Ganymede search/search_index.json  1049\n",
       "Fortuna  search/search_index.json   985\n",
       "Wrangell toc                        982\n",
       "Ceres    javascript-i               975\n",
       "Hyperion toc                        972\n",
       "Europa   toc                        944"
      ]
     },
     "execution_count": 14,
     "metadata": {},
     "output_type": "execute_result"
    }
   ],
   "source": [
    "# WD: grouped by cohort, sorted by top page view\n",
    "pd.DataFrame(wd.groupby('name').page.value_counts().sort_values(ascending=False).head(10))"
   ]
  },
  {
   "cell_type": "code",
   "execution_count": 15,
   "metadata": {},
   "outputs": [
    {
     "data": {
      "text/html": [
       "<div>\n",
       "<style scoped>\n",
       "    .dataframe tbody tr th:only-of-type {\n",
       "        vertical-align: middle;\n",
       "    }\n",
       "\n",
       "    .dataframe tbody tr th {\n",
       "        vertical-align: top;\n",
       "    }\n",
       "\n",
       "    .dataframe thead th {\n",
       "        text-align: right;\n",
       "    }\n",
       "</style>\n",
       "<table border=\"1\" class=\"dataframe\">\n",
       "  <thead>\n",
       "    <tr style=\"text-align: right;\">\n",
       "      <th></th>\n",
       "      <th></th>\n",
       "      <th>page</th>\n",
       "    </tr>\n",
       "    <tr>\n",
       "      <th>name</th>\n",
       "      <th>page</th>\n",
       "      <th></th>\n",
       "    </tr>\n",
       "  </thead>\n",
       "  <tbody>\n",
       "    <tr>\n",
       "      <th>Mammoth</th>\n",
       "      <th>toc</th>\n",
       "      <td>1</td>\n",
       "    </tr>\n",
       "    <tr>\n",
       "      <th>Badlands</th>\n",
       "      <th>toc</th>\n",
       "      <td>2</td>\n",
       "    </tr>\n",
       "    <tr>\n",
       "      <th>Joshua</th>\n",
       "      <th>toc</th>\n",
       "      <td>3</td>\n",
       "    </tr>\n",
       "    <tr>\n",
       "      <th>Hampton</th>\n",
       "      <th>toc</th>\n",
       "      <td>5</td>\n",
       "    </tr>\n",
       "    <tr>\n",
       "      <th>Ike</th>\n",
       "      <th>toc</th>\n",
       "      <td>6</td>\n",
       "    </tr>\n",
       "    <tr>\n",
       "      <th>Niagara</th>\n",
       "      <th>toc</th>\n",
       "      <td>6</td>\n",
       "    </tr>\n",
       "    <tr>\n",
       "      <th>Lassen</th>\n",
       "      <th>toc</th>\n",
       "      <td>10</td>\n",
       "    </tr>\n",
       "    <tr>\n",
       "      <th>Pinnacles</th>\n",
       "      <th>toc</th>\n",
       "      <td>11</td>\n",
       "    </tr>\n",
       "    <tr>\n",
       "      <th>Quincy</th>\n",
       "      <th>toc</th>\n",
       "      <td>12</td>\n",
       "    </tr>\n",
       "    <tr>\n",
       "      <th>Glacier</th>\n",
       "      <th>toc</th>\n",
       "      <td>13</td>\n",
       "    </tr>\n",
       "  </tbody>\n",
       "</table>\n",
       "</div>"
      ],
      "text/plain": [
       "                page\n",
       "name      page      \n",
       "Mammoth   toc      1\n",
       "Badlands  toc      2\n",
       "Joshua    toc      3\n",
       "Hampton   toc      5\n",
       "Ike       toc      6\n",
       "Niagara   toc      6\n",
       "Lassen    toc     10\n",
       "Pinnacles toc     11\n",
       "Quincy    toc     12\n",
       "Glacier   toc     13"
      ]
     },
     "execution_count": 15,
     "metadata": {},
     "output_type": "execute_result"
    }
   ],
   "source": [
    "# filters df where a cohort has viewed the 'toc' lesson the least\n",
    "pd.DataFrame(wd[wd.page == 'toc'].groupby('name').page.value_counts().sort_values().head(10))"
   ]
  },
  {
   "cell_type": "code",
   "execution_count": 16,
   "metadata": {
    "scrolled": true
   },
   "outputs": [
    {
     "data": {
      "text/html": [
       "<div>\n",
       "<style scoped>\n",
       "    .dataframe tbody tr th:only-of-type {\n",
       "        vertical-align: middle;\n",
       "    }\n",
       "\n",
       "    .dataframe tbody tr th {\n",
       "        vertical-align: top;\n",
       "    }\n",
       "\n",
       "    .dataframe thead th {\n",
       "        text-align: right;\n",
       "    }\n",
       "</style>\n",
       "<table border=\"1\" class=\"dataframe\">\n",
       "  <thead>\n",
       "    <tr style=\"text-align: right;\">\n",
       "      <th></th>\n",
       "      <th></th>\n",
       "      <th>page</th>\n",
       "    </tr>\n",
       "    <tr>\n",
       "      <th>name</th>\n",
       "      <th>page</th>\n",
       "      <th></th>\n",
       "    </tr>\n",
       "  </thead>\n",
       "  <tbody>\n",
       "    <tr>\n",
       "      <th>Mammoth</th>\n",
       "      <th>search/search_index.json</th>\n",
       "      <td>1</td>\n",
       "    </tr>\n",
       "    <tr>\n",
       "      <th>Ike</th>\n",
       "      <th>search/search_index.json</th>\n",
       "      <td>1</td>\n",
       "    </tr>\n",
       "    <tr>\n",
       "      <th>Glacier</th>\n",
       "      <th>search/search_index.json</th>\n",
       "      <td>4</td>\n",
       "    </tr>\n",
       "    <tr>\n",
       "      <th>Quincy</th>\n",
       "      <th>search/search_index.json</th>\n",
       "      <td>6</td>\n",
       "    </tr>\n",
       "    <tr>\n",
       "      <th>Pinnacles</th>\n",
       "      <th>search/search_index.json</th>\n",
       "      <td>6</td>\n",
       "    </tr>\n",
       "    <tr>\n",
       "      <th>Kings</th>\n",
       "      <th>search/search_index.json</th>\n",
       "      <td>6</td>\n",
       "    </tr>\n",
       "    <tr>\n",
       "      <th>Niagara</th>\n",
       "      <th>search/search_index.json</th>\n",
       "      <td>7</td>\n",
       "    </tr>\n",
       "    <tr>\n",
       "      <th>Hampton</th>\n",
       "      <th>search/search_index.json</th>\n",
       "      <td>9</td>\n",
       "    </tr>\n",
       "    <tr>\n",
       "      <th>Olympic</th>\n",
       "      <th>search/search_index.json</th>\n",
       "      <td>17</td>\n",
       "    </tr>\n",
       "    <tr>\n",
       "      <th>Lassen</th>\n",
       "      <th>search/search_index.json</th>\n",
       "      <td>31</td>\n",
       "    </tr>\n",
       "  </tbody>\n",
       "</table>\n",
       "</div>"
      ],
      "text/plain": [
       "                                    page\n",
       "name      page                          \n",
       "Mammoth   search/search_index.json     1\n",
       "Ike       search/search_index.json     1\n",
       "Glacier   search/search_index.json     4\n",
       "Quincy    search/search_index.json     6\n",
       "Pinnacles search/search_index.json     6\n",
       "Kings     search/search_index.json     6\n",
       "Niagara   search/search_index.json     7\n",
       "Hampton   search/search_index.json     9\n",
       "Olympic   search/search_index.json    17\n",
       "Lassen    search/search_index.json    31"
      ]
     },
     "execution_count": 16,
     "metadata": {},
     "output_type": "execute_result"
    }
   ],
   "source": [
    "# filters df where a cohort has viewed the 'search/search_index.json' lesson the least\n",
    "pd.DataFrame(wd[wd.page == 'search/search_index.json'].groupby('name').page.value_counts().sort_values().head(10))"
   ]
  },
  {
   "cell_type": "markdown",
   "metadata": {},
   "source": [
    "### Data Science"
   ]
  },
  {
   "cell_type": "code",
   "execution_count": 17,
   "metadata": {},
   "outputs": [
    {
     "data": {
      "text/html": [
       "<div>\n",
       "<style scoped>\n",
       "    .dataframe tbody tr th:only-of-type {\n",
       "        vertical-align: middle;\n",
       "    }\n",
       "\n",
       "    .dataframe tbody tr th {\n",
       "        vertical-align: top;\n",
       "    }\n",
       "\n",
       "    .dataframe thead th {\n",
       "        text-align: right;\n",
       "    }\n",
       "</style>\n",
       "<table border=\"1\" class=\"dataframe\">\n",
       "  <thead>\n",
       "    <tr style=\"text-align: right;\">\n",
       "      <th></th>\n",
       "      <th></th>\n",
       "      <th>page</th>\n",
       "    </tr>\n",
       "    <tr>\n",
       "      <th>name</th>\n",
       "      <th>page</th>\n",
       "      <th></th>\n",
       "    </tr>\n",
       "  </thead>\n",
       "  <tbody>\n",
       "    <tr>\n",
       "      <th>Darden</th>\n",
       "      <th>classification/overview</th>\n",
       "      <td>756</td>\n",
       "    </tr>\n",
       "    <tr>\n",
       "      <th rowspan=\"3\" valign=\"top\">Bayes</th>\n",
       "      <th>1-fundamentals/modern-data-scientist.jpg</th>\n",
       "      <td>625</td>\n",
       "    </tr>\n",
       "    <tr>\n",
       "      <th>1-fundamentals/AI-ML-DL-timeline.jpg</th>\n",
       "      <td>623</td>\n",
       "    </tr>\n",
       "    <tr>\n",
       "      <th>1-fundamentals/1.1-intro-to-data-science</th>\n",
       "      <td>614</td>\n",
       "    </tr>\n",
       "    <tr>\n",
       "      <th>Curie</th>\n",
       "      <th>6-regression/1-overview</th>\n",
       "      <td>594</td>\n",
       "    </tr>\n",
       "    <tr>\n",
       "      <th>Darden</th>\n",
       "      <th>classification/scale_features_or_not.svg</th>\n",
       "      <td>589</td>\n",
       "    </tr>\n",
       "    <tr>\n",
       "      <th rowspan=\"2\" valign=\"top\">Bayes</th>\n",
       "      <th>search/search_index.json</th>\n",
       "      <td>550</td>\n",
       "    </tr>\n",
       "    <tr>\n",
       "      <th>6-regression/1-overview</th>\n",
       "      <td>521</td>\n",
       "    </tr>\n",
       "    <tr>\n",
       "      <th>Darden</th>\n",
       "      <th>sql/mysql-overview</th>\n",
       "      <td>513</td>\n",
       "    </tr>\n",
       "    <tr>\n",
       "      <th>Curie</th>\n",
       "      <th>search/search_index.json</th>\n",
       "      <td>480</td>\n",
       "    </tr>\n",
       "  </tbody>\n",
       "</table>\n",
       "</div>"
      ],
      "text/plain": [
       "                                                 page\n",
       "name   page                                          \n",
       "Darden classification/overview                    756\n",
       "Bayes  1-fundamentals/modern-data-scientist.jpg   625\n",
       "       1-fundamentals/AI-ML-DL-timeline.jpg       623\n",
       "       1-fundamentals/1.1-intro-to-data-science   614\n",
       "Curie  6-regression/1-overview                    594\n",
       "Darden classification/scale_features_or_not.svg   589\n",
       "Bayes  search/search_index.json                   550\n",
       "       6-regression/1-overview                    521\n",
       "Darden sql/mysql-overview                         513\n",
       "Curie  search/search_index.json                   480"
      ]
     },
     "execution_count": 17,
     "metadata": {},
     "output_type": "execute_result"
    }
   ],
   "source": [
    "# DS: grouped by cohort, sorted by top page view\n",
    "pd.DataFrame(ds.groupby('name').page.value_counts().sort_values(ascending=False).head(10))"
   ]
  },
  {
   "cell_type": "code",
   "execution_count": 18,
   "metadata": {},
   "outputs": [
    {
     "data": {
      "text/html": [
       "<div>\n",
       "<style scoped>\n",
       "    .dataframe tbody tr th:only-of-type {\n",
       "        vertical-align: middle;\n",
       "    }\n",
       "\n",
       "    .dataframe tbody tr th {\n",
       "        vertical-align: top;\n",
       "    }\n",
       "\n",
       "    .dataframe thead th {\n",
       "        text-align: right;\n",
       "    }\n",
       "</style>\n",
       "<table border=\"1\" class=\"dataframe\">\n",
       "  <thead>\n",
       "    <tr style=\"text-align: right;\">\n",
       "      <th></th>\n",
       "      <th></th>\n",
       "      <th>page</th>\n",
       "    </tr>\n",
       "    <tr>\n",
       "      <th>name</th>\n",
       "      <th>page</th>\n",
       "      <th></th>\n",
       "    </tr>\n",
       "  </thead>\n",
       "  <tbody>\n",
       "    <tr>\n",
       "      <th>Bayes</th>\n",
       "      <th>classification/overview</th>\n",
       "      <td>10</td>\n",
       "    </tr>\n",
       "    <tr>\n",
       "      <th>Curie</th>\n",
       "      <th>classification/overview</th>\n",
       "      <td>90</td>\n",
       "    </tr>\n",
       "    <tr>\n",
       "      <th>Darden</th>\n",
       "      <th>classification/overview</th>\n",
       "      <td>756</td>\n",
       "    </tr>\n",
       "  </tbody>\n",
       "</table>\n",
       "</div>"
      ],
      "text/plain": [
       "                                page\n",
       "name   page                         \n",
       "Bayes  classification/overview    10\n",
       "Curie  classification/overview    90\n",
       "Darden classification/overview   756"
      ]
     },
     "execution_count": 18,
     "metadata": {},
     "output_type": "execute_result"
    }
   ],
   "source": [
    "# filters df where a cohort has viewed the 'classification/overview' lesson the least\n",
    "pd.DataFrame(ds[ds.page == 'classification/overview'].groupby('name').page.value_counts().sort_values().head(10))"
   ]
  },
  {
   "cell_type": "code",
   "execution_count": 19,
   "metadata": {},
   "outputs": [
    {
     "data": {
      "text/html": [
       "<div>\n",
       "<style scoped>\n",
       "    .dataframe tbody tr th:only-of-type {\n",
       "        vertical-align: middle;\n",
       "    }\n",
       "\n",
       "    .dataframe tbody tr th {\n",
       "        vertical-align: top;\n",
       "    }\n",
       "\n",
       "    .dataframe thead th {\n",
       "        text-align: right;\n",
       "    }\n",
       "</style>\n",
       "<table border=\"1\" class=\"dataframe\">\n",
       "  <thead>\n",
       "    <tr style=\"text-align: right;\">\n",
       "      <th></th>\n",
       "      <th></th>\n",
       "      <th>page</th>\n",
       "    </tr>\n",
       "    <tr>\n",
       "      <th>name</th>\n",
       "      <th>page</th>\n",
       "      <th></th>\n",
       "    </tr>\n",
       "  </thead>\n",
       "  <tbody>\n",
       "    <tr>\n",
       "      <th>Darden</th>\n",
       "      <th>1-fundamentals/1.1-intro-to-data-science</th>\n",
       "      <td>458</td>\n",
       "    </tr>\n",
       "    <tr>\n",
       "      <th>Curie</th>\n",
       "      <th>1-fundamentals/1.1-intro-to-data-science</th>\n",
       "      <td>460</td>\n",
       "    </tr>\n",
       "    <tr>\n",
       "      <th>Bayes</th>\n",
       "      <th>1-fundamentals/1.1-intro-to-data-science</th>\n",
       "      <td>614</td>\n",
       "    </tr>\n",
       "  </tbody>\n",
       "</table>\n",
       "</div>"
      ],
      "text/plain": [
       "                                                 page\n",
       "name   page                                          \n",
       "Darden 1-fundamentals/1.1-intro-to-data-science   458\n",
       "Curie  1-fundamentals/1.1-intro-to-data-science   460\n",
       "Bayes  1-fundamentals/1.1-intro-to-data-science   614"
      ]
     },
     "execution_count": 19,
     "metadata": {},
     "output_type": "execute_result"
    }
   ],
   "source": [
    "# filters df where a cohort has viewed the '1-fundamentals/1.1-intro-to-data-science' lesson the least\n",
    "pd.DataFrame(ds[ds.page == '1-fundamentals/1.1-intro-to-data-science'].groupby('name').page.value_counts().sort_values().head(10))"
   ]
  },
  {
   "cell_type": "code",
   "execution_count": 20,
   "metadata": {},
   "outputs": [
    {
     "data": {
      "text/html": [
       "<div>\n",
       "<style scoped>\n",
       "    .dataframe tbody tr th:only-of-type {\n",
       "        vertical-align: middle;\n",
       "    }\n",
       "\n",
       "    .dataframe tbody tr th {\n",
       "        vertical-align: top;\n",
       "    }\n",
       "\n",
       "    .dataframe thead th {\n",
       "        text-align: right;\n",
       "    }\n",
       "</style>\n",
       "<table border=\"1\" class=\"dataframe\">\n",
       "  <thead>\n",
       "    <tr style=\"text-align: right;\">\n",
       "      <th></th>\n",
       "      <th></th>\n",
       "      <th>page</th>\n",
       "    </tr>\n",
       "    <tr>\n",
       "      <th>name</th>\n",
       "      <th>page</th>\n",
       "      <th></th>\n",
       "    </tr>\n",
       "  </thead>\n",
       "  <tbody>\n",
       "    <tr>\n",
       "      <th>Darden</th>\n",
       "      <th>6-regression/1-overview</th>\n",
       "      <td>7</td>\n",
       "    </tr>\n",
       "    <tr>\n",
       "      <th>Bayes</th>\n",
       "      <th>6-regression/1-overview</th>\n",
       "      <td>521</td>\n",
       "    </tr>\n",
       "    <tr>\n",
       "      <th>Curie</th>\n",
       "      <th>6-regression/1-overview</th>\n",
       "      <td>594</td>\n",
       "    </tr>\n",
       "  </tbody>\n",
       "</table>\n",
       "</div>"
      ],
      "text/plain": [
       "                                page\n",
       "name   page                         \n",
       "Darden 6-regression/1-overview     7\n",
       "Bayes  6-regression/1-overview   521\n",
       "Curie  6-regression/1-overview   594"
      ]
     },
     "execution_count": 20,
     "metadata": {},
     "output_type": "execute_result"
    }
   ],
   "source": [
    "# filters df where a cohort has viewed the '6-regression/1-overview' lesson the least\n",
    "pd.DataFrame(ds[ds.page == '6-regression/1-overview'].groupby('name').page.value_counts().sort_values().head(10))"
   ]
  },
  {
   "cell_type": "markdown",
   "metadata": {},
   "source": [
    "> **Summary**:\n",
    "- WD: \n",
    "    - highest traffic lessons: \n",
    "        - 'toc' \n",
    "        - 'search/search_index.json'\n",
    "    - cohorts hardly accessing these lessons:\n",
    "        - Mammoth\n",
    "        - Ike\n",
    "        - Hampton\n",
    "        - Niagara\n",
    "        - Glacier\n",
    "- DS:\n",
    "    - highest traffic lessons: \n",
    "        - 'classification/overview' \n",
    "        - '1-fundamentals/1.1-intro-to-data-science'\n",
    "    - cohorts hardly accessing these lessons:\n",
    "        - see second and fourth dataframes for DS"
   ]
  },
  {
   "cell_type": "markdown",
   "metadata": {},
   "source": [
    "---\n",
    "<div class=\"alert alert-block alert-info\">3. Are there students who, when active, hardly access the curriculum? If so, what information do you have about these students?</div>"
   ]
  },
  {
   "cell_type": "code",
   "execution_count": 21,
   "metadata": {},
   "outputs": [],
   "source": [
    "# filters df for observations only during the time the student \n",
    "# was 'active' for each program\n",
    "active_access_wd = wd.loc[(wd.index >= wd.start_date) & (wd.index <= wd.end_date)]\n",
    "active_access_ds = ds.loc[(ds.index >= ds.start_date) & (ds.index <= ds.end_date)]"
   ]
  },
  {
   "cell_type": "markdown",
   "metadata": {},
   "source": [
    "### Web Development"
   ]
  },
  {
   "cell_type": "code",
   "execution_count": 22,
   "metadata": {
    "scrolled": true
   },
   "outputs": [],
   "source": [
    "# groups active web dev users by id and aggregates by page count and sorts them from lowest page count\n",
    "low_access_wd = active_access_wd.groupby('user_id').size().sort_values().head()\n",
    "low_access_wd = pd.DataFrame(low_access_wd, columns=['count'])"
   ]
  },
  {
   "cell_type": "code",
   "execution_count": 23,
   "metadata": {
    "scrolled": true
   },
   "outputs": [],
   "source": [
    "# accessed pages of active web dev users from the list above\n",
    "active_obs_wd = pd.DataFrame(active_access_wd[active_access_wd.user_id.isin(low_access_wd.index.tolist())])"
   ]
  },
  {
   "cell_type": "code",
   "execution_count": 24,
   "metadata": {},
   "outputs": [],
   "source": [
    "# gets a df of the cohort name of each user\n",
    "cohort_name_wd = pd.DataFrame(active_obs_wd.groupby('user_id').name.value_counts())\\\n",
    "    .rename(columns={'name':'count'}).reset_index(level=['name']).drop(columns=['count'])"
   ]
  },
  {
   "cell_type": "code",
   "execution_count": 25,
   "metadata": {},
   "outputs": [],
   "source": [
    "# shows how many days the user has been active based on latest access\n",
    "# active_obs_wd.groupby('user_id').days_active.max()"
   ]
  },
  {
   "cell_type": "code",
   "execution_count": 26,
   "metadata": {
    "scrolled": true
   },
   "outputs": [
    {
     "data": {
      "text/html": [
       "<div>\n",
       "<style scoped>\n",
       "    .dataframe tbody tr th:only-of-type {\n",
       "        vertical-align: middle;\n",
       "    }\n",
       "\n",
       "    .dataframe tbody tr th {\n",
       "        vertical-align: top;\n",
       "    }\n",
       "\n",
       "    .dataframe thead th {\n",
       "        text-align: right;\n",
       "    }\n",
       "</style>\n",
       "<table border=\"1\" class=\"dataframe\">\n",
       "  <thead>\n",
       "    <tr style=\"text-align: right;\">\n",
       "      <th></th>\n",
       "      <th>days_active</th>\n",
       "      <th>program_length</th>\n",
       "      <th>count</th>\n",
       "      <th>name</th>\n",
       "    </tr>\n",
       "    <tr>\n",
       "      <th>user_id</th>\n",
       "      <th></th>\n",
       "      <th></th>\n",
       "      <th></th>\n",
       "      <th></th>\n",
       "    </tr>\n",
       "  </thead>\n",
       "  <tbody>\n",
       "    <tr>\n",
       "      <th>64</th>\n",
       "      <td>78</td>\n",
       "      <td>165</td>\n",
       "      <td>14</td>\n",
       "      <td>Europa</td>\n",
       "    </tr>\n",
       "    <tr>\n",
       "      <th>278</th>\n",
       "      <td>121</td>\n",
       "      <td>135</td>\n",
       "      <td>3</td>\n",
       "      <td>Voyageurs</td>\n",
       "    </tr>\n",
       "    <tr>\n",
       "      <th>388</th>\n",
       "      <td>1</td>\n",
       "      <td>134</td>\n",
       "      <td>7</td>\n",
       "      <td>Andromeda</td>\n",
       "    </tr>\n",
       "    <tr>\n",
       "      <th>539</th>\n",
       "      <td>0</td>\n",
       "      <td>165</td>\n",
       "      <td>4</td>\n",
       "      <td>Europa</td>\n",
       "    </tr>\n",
       "    <tr>\n",
       "      <th>572</th>\n",
       "      <td>1</td>\n",
       "      <td>162</td>\n",
       "      <td>11</td>\n",
       "      <td>Fortuna</td>\n",
       "    </tr>\n",
       "  </tbody>\n",
       "</table>\n",
       "</div>"
      ],
      "text/plain": [
       "         days_active  program_length  count       name\n",
       "user_id                                               \n",
       "64                78             165     14     Europa\n",
       "278              121             135      3  Voyageurs\n",
       "388                1             134      7  Andromeda\n",
       "539                0             165      4     Europa\n",
       "572                1             162     11    Fortuna"
      ]
     },
     "execution_count": 26,
     "metadata": {},
     "output_type": "execute_result"
    }
   ],
   "source": [
    "# shows how many days the user has been active during their program, \n",
    "# program length in days, and total pages viewed(count).\n",
    "# and name of the cohort they belong to\n",
    "pd.DataFrame(active_obs_wd.groupby('user_id').days_active.max())\\\n",
    "        .merge(active_obs_wd.groupby('user_id').program_length.max(), on='user_id')\\\n",
    "        .merge(low_access_wd, on='user_id')\\\n",
    "        .merge(cohort_name_wd, on='user_id')"
   ]
  },
  {
   "cell_type": "markdown",
   "metadata": {},
   "source": [
    "### Data Science"
   ]
  },
  {
   "cell_type": "code",
   "execution_count": 27,
   "metadata": {},
   "outputs": [],
   "source": [
    "# groups active data sci users by id and aggregates by page count and sorts them sorts them from lowest page count\n",
    "low_access_ds = active_access_ds.groupby('user_id').size().sort_values().head()\n",
    "low_access_ds = pd.DataFrame(low_access_ds, columns=['count'])"
   ]
  },
  {
   "cell_type": "code",
   "execution_count": 28,
   "metadata": {
    "scrolled": true
   },
   "outputs": [],
   "source": [
    "# accessed pages of active data sci users from the list above\n",
    "active_obs_ds = pd.DataFrame(active_access_ds[active_access_ds.user_id.isin(low_access_ds.index.tolist())])"
   ]
  },
  {
   "cell_type": "code",
   "execution_count": 29,
   "metadata": {},
   "outputs": [],
   "source": [
    "# gets a df of the cohort name of each user\n",
    "cohort_name_ds = pd.DataFrame(active_obs_ds.groupby('user_id').name.value_counts())\\\n",
    "    .rename(columns={'name':'count'}).reset_index(level=['name']).drop(columns=['count'])"
   ]
  },
  {
   "cell_type": "code",
   "execution_count": 30,
   "metadata": {},
   "outputs": [],
   "source": [
    "# shows how many days the user has been active based on latest access\n",
    "# active_obs_ds.groupby('user_id').days_active.max()"
   ]
  },
  {
   "cell_type": "code",
   "execution_count": 31,
   "metadata": {},
   "outputs": [
    {
     "data": {
      "text/html": [
       "<div>\n",
       "<style scoped>\n",
       "    .dataframe tbody tr th:only-of-type {\n",
       "        vertical-align: middle;\n",
       "    }\n",
       "\n",
       "    .dataframe tbody tr th {\n",
       "        vertical-align: top;\n",
       "    }\n",
       "\n",
       "    .dataframe thead th {\n",
       "        text-align: right;\n",
       "    }\n",
       "</style>\n",
       "<table border=\"1\" class=\"dataframe\">\n",
       "  <thead>\n",
       "    <tr style=\"text-align: right;\">\n",
       "      <th></th>\n",
       "      <th>days_active</th>\n",
       "      <th>program_length</th>\n",
       "      <th>count</th>\n",
       "      <th>name</th>\n",
       "    </tr>\n",
       "    <tr>\n",
       "      <th>user_id</th>\n",
       "      <th></th>\n",
       "      <th></th>\n",
       "      <th></th>\n",
       "      <th></th>\n",
       "    </tr>\n",
       "  </thead>\n",
       "  <tbody>\n",
       "    <tr>\n",
       "      <th>487</th>\n",
       "      <td>11</td>\n",
       "      <td>164</td>\n",
       "      <td>16</td>\n",
       "      <td>Bayes</td>\n",
       "    </tr>\n",
       "    <tr>\n",
       "      <th>679</th>\n",
       "      <td>1</td>\n",
       "      <td>183</td>\n",
       "      <td>10</td>\n",
       "      <td>Darden</td>\n",
       "    </tr>\n",
       "    <tr>\n",
       "      <th>697</th>\n",
       "      <td>0</td>\n",
       "      <td>183</td>\n",
       "      <td>12</td>\n",
       "      <td>Darden</td>\n",
       "    </tr>\n",
       "    <tr>\n",
       "      <th>780</th>\n",
       "      <td>112</td>\n",
       "      <td>183</td>\n",
       "      <td>44</td>\n",
       "      <td>Darden</td>\n",
       "    </tr>\n",
       "    <tr>\n",
       "      <th>785</th>\n",
       "      <td>112</td>\n",
       "      <td>183</td>\n",
       "      <td>29</td>\n",
       "      <td>Darden</td>\n",
       "    </tr>\n",
       "  </tbody>\n",
       "</table>\n",
       "</div>"
      ],
      "text/plain": [
       "         days_active  program_length  count    name\n",
       "user_id                                            \n",
       "487               11             164     16   Bayes\n",
       "679                1             183     10  Darden\n",
       "697                0             183     12  Darden\n",
       "780              112             183     44  Darden\n",
       "785              112             183     29  Darden"
      ]
     },
     "execution_count": 31,
     "metadata": {},
     "output_type": "execute_result"
    }
   ],
   "source": [
    "# shows how many days the user has been active during their program, \n",
    "# program length in days, and total pages viewed(count).\n",
    "# and name of the cohort they belong to\n",
    "pd.DataFrame(active_obs_ds.groupby('user_id').days_active.max())\\\n",
    "        .merge(active_obs_ds.groupby('user_id').program_length.max(), on='user_id')\\\n",
    "        .merge(low_access_ds, on='user_id')\\\n",
    "        .merge(cohort_name_ds, on='user_id')"
   ]
  },
  {
   "cell_type": "markdown",
   "metadata": {},
   "source": [
    ">**Summary**\n",
    "- For web dev:\n",
    "    - Users 388, 539, and 572 may have dropped out by the first day\n",
    "    - User 64 of them seemed to have stopped accessing midway\n",
    "    - User 278 seemed to have stopped access two weeks prior to gradution\n",
    "- For data sci:\n",
    "    - User 679 and 697 seemed to have dropped early\n",
    "    - User 487 was only active for 11 days\n",
    "    - Users 780 and 785 may still be active since Darden is still running to this day"
   ]
  },
  {
   "cell_type": "markdown",
   "metadata": {},
   "source": [
    "---\n",
    "<div class=\"alert alert-block alert-info\">4. Is there any suspicious activity, such as users/machines/etc accessing the curriculum who shouldn’t be? Does it appear that any web-scraping is happening? Are there any suspicious IP addresses? Any odd user-agents?</div>"
   ]
  },
  {
   "cell_type": "code",
   "execution_count": 32,
   "metadata": {},
   "outputs": [
    {
     "name": "stdout",
     "output_type": "stream",
     "text": [
      "<class 'pandas.core.frame.DataFrame'>\n",
      "DatetimeIndex: 44840 entries, 2018-01-26 16:46:16 to 2020-11-02 16:30:49\n",
      "Data columns (total 4 columns):\n",
      " #   Column     Non-Null Count  Dtype  \n",
      "---  ------     --------------  -----  \n",
      " 0   page       44840 non-null  object \n",
      " 1   user_id    44840 non-null  int64  \n",
      " 2   cohort_id  44840 non-null  float64\n",
      " 3   ip         44840 non-null  object \n",
      "dtypes: float64(1), int64(1), object(2)\n",
      "memory usage: 1.7+ MB\n"
     ]
    }
   ],
   "source": [
    "no_id.info()"
   ]
  },
  {
   "cell_type": "code",
   "execution_count": 33,
   "metadata": {},
   "outputs": [
    {
     "data": {
      "text/plain": [
       "[48,\n",
       " 54,\n",
       " 58,\n",
       " 59,\n",
       " 61,\n",
       " 62,\n",
       " 63,\n",
       " 64,\n",
       " 73,\n",
       " 74,\n",
       " 78,\n",
       " 79,\n",
       " 86,\n",
       " 88,\n",
       " 89,\n",
       " 100,\n",
       " 103,\n",
       " 111,\n",
       " 137,\n",
       " 166,\n",
       " 176,\n",
       " 213,\n",
       " 247,\n",
       " 317,\n",
       " 346,\n",
       " 349,\n",
       " 350,\n",
       " 351,\n",
       " 352,\n",
       " 353,\n",
       " 354,\n",
       " 355,\n",
       " 356,\n",
       " 357,\n",
       " 358,\n",
       " 359,\n",
       " 360,\n",
       " 361,\n",
       " 362,\n",
       " 363,\n",
       " 364,\n",
       " 365,\n",
       " 366,\n",
       " 367,\n",
       " 368,\n",
       " 369,\n",
       " 372,\n",
       " 375,\n",
       " 403,\n",
       " 406,\n",
       " 429,\n",
       " 544,\n",
       " 644,\n",
       " 663,\n",
       " 713,\n",
       " 714,\n",
       " 715,\n",
       " 716,\n",
       " 717,\n",
       " 718,\n",
       " 719,\n",
       " 720,\n",
       " 721,\n",
       " 722,\n",
       " 723,\n",
       " 724,\n",
       " 725,\n",
       " 726,\n",
       " 727,\n",
       " 728,\n",
       " 729,\n",
       " 731,\n",
       " 736,\n",
       " 744,\n",
       " 782]"
      ]
     },
     "execution_count": 33,
     "metadata": {},
     "output_type": "execute_result"
    }
   ],
   "source": [
    "# users with no cohort_id\n",
    "no_id_users = no_id.groupby('user_id').size().index.to_list()\n",
    "no_id_users"
   ]
  },
  {
   "cell_type": "code",
   "execution_count": 34,
   "metadata": {},
   "outputs": [
    {
     "data": {
      "text/plain": [
       "[64, 644, 375, 346, 358, 88, 663]"
      ]
     },
     "execution_count": 34,
     "metadata": {},
     "output_type": "execute_result"
    }
   ],
   "source": [
    "# users in original df that coincide with user_ids from the unknown cohort df\n",
    "weird_users = df[df.user_id.isin(no_id_users)].user_id.value_counts().index.to_list()\n",
    "weird_users"
   ]
  },
  {
   "cell_type": "code",
   "execution_count": 35,
   "metadata": {
    "scrolled": true
   },
   "outputs": [
    {
     "data": {
      "text/html": [
       "<div>\n",
       "<style scoped>\n",
       "    .dataframe tbody tr th:only-of-type {\n",
       "        vertical-align: middle;\n",
       "    }\n",
       "\n",
       "    .dataframe tbody tr th {\n",
       "        vertical-align: top;\n",
       "    }\n",
       "\n",
       "    .dataframe thead th {\n",
       "        text-align: right;\n",
       "    }\n",
       "</style>\n",
       "<table border=\"1\" class=\"dataframe\">\n",
       "  <thead>\n",
       "    <tr style=\"text-align: right;\">\n",
       "      <th></th>\n",
       "      <th></th>\n",
       "      <th>0</th>\n",
       "    </tr>\n",
       "    <tr>\n",
       "      <th>user_id</th>\n",
       "      <th>name</th>\n",
       "      <th></th>\n",
       "    </tr>\n",
       "  </thead>\n",
       "  <tbody>\n",
       "    <tr>\n",
       "      <th rowspan=\"2\" valign=\"top\">64</th>\n",
       "      <th>Arches</th>\n",
       "      <td>3538</td>\n",
       "    </tr>\n",
       "    <tr>\n",
       "      <th>Europa</th>\n",
       "      <td>14</td>\n",
       "    </tr>\n",
       "    <tr>\n",
       "      <th rowspan=\"3\" valign=\"top\">88</th>\n",
       "      <th>Glacier</th>\n",
       "      <td>326</td>\n",
       "    </tr>\n",
       "    <tr>\n",
       "      <th>Ike</th>\n",
       "      <td>5</td>\n",
       "    </tr>\n",
       "    <tr>\n",
       "      <th>Joshua</th>\n",
       "      <td>9</td>\n",
       "    </tr>\n",
       "    <tr>\n",
       "      <th rowspan=\"2\" valign=\"top\">346</th>\n",
       "      <th>Sequoia</th>\n",
       "      <td>49</td>\n",
       "    </tr>\n",
       "    <tr>\n",
       "      <th>Zion</th>\n",
       "      <td>1470</td>\n",
       "    </tr>\n",
       "    <tr>\n",
       "      <th>358</th>\n",
       "      <th>Bayes</th>\n",
       "      <td>1051</td>\n",
       "    </tr>\n",
       "    <tr>\n",
       "      <th>375</th>\n",
       "      <th>Andromeda</th>\n",
       "      <td>1553</td>\n",
       "    </tr>\n",
       "    <tr>\n",
       "      <th>644</th>\n",
       "      <th>Ganymede</th>\n",
       "      <td>1622</td>\n",
       "    </tr>\n",
       "    <tr>\n",
       "      <th>663</th>\n",
       "      <th>Hyperion</th>\n",
       "      <td>270</td>\n",
       "    </tr>\n",
       "  </tbody>\n",
       "</table>\n",
       "</div>"
      ],
      "text/plain": [
       "                      0\n",
       "user_id name           \n",
       "64      Arches     3538\n",
       "        Europa       14\n",
       "88      Glacier     326\n",
       "        Ike           5\n",
       "        Joshua        9\n",
       "346     Sequoia      49\n",
       "        Zion       1470\n",
       "358     Bayes      1051\n",
       "375     Andromeda  1553\n",
       "644     Ganymede   1622\n",
       "663     Hyperion    270"
      ]
     },
     "execution_count": 35,
     "metadata": {},
     "output_type": "execute_result"
    }
   ],
   "source": [
    "# users from above respective cohorts\n",
    "pd.DataFrame(df[df.user_id.isin(weird_users)].groupby(['user_id', 'name']).size())"
   ]
  },
  {
   "cell_type": "markdown",
   "metadata": {},
   "source": [
    ">**Summary**\n",
    "- I checked out the users that didn't have cohort_ids to see if they had a similar user_id to any observations with cohort information. \n",
    "- I found 7 users with absent cohort_ids that shared a user_id that had a cohort_id.\n",
    "- Finally, I discovered that users 64, 88, and, 346 had information from 2 or three different cohorts (dataframe above).\n",
    "- All findings are from web dev programs, except one (Bayes)"
   ]
  },
  {
   "cell_type": "markdown",
   "metadata": {},
   "source": [
    "---\n",
    "<div class=\"alert alert-block alert-info\">5. At some point in the last year, ability for students and alumni to cross-access curriculum (web dev to ds, ds to web dev) should have been shut off. Do you see any evidence of that happening? Did it happen before?</div>"
   ]
  },
  {
   "cell_type": "code",
   "execution_count": 36,
   "metadata": {},
   "outputs": [
    {
     "data": {
      "text/plain": [
       "160"
      ]
     },
     "execution_count": 36,
     "metadata": {},
     "output_type": "execute_result"
    }
   ],
   "source": [
    "# how many pages were cross-accessed in the last year\n",
    "wd['2020':].groupby('page').size().index.isin(ds['2020':].groupby('page').size().index).sum()"
   ]
  },
  {
   "cell_type": "code",
   "execution_count": 37,
   "metadata": {},
   "outputs": [],
   "source": [
    "# put all unique pages into a list for wd and ds\n",
    "a = wd['2020':].groupby('page').size().index.to_list()\n",
    "b = ds['2020':].groupby('page').size().index.to_list()"
   ]
  },
  {
   "cell_type": "code",
   "execution_count": 38,
   "metadata": {},
   "outputs": [
    {
     "data": {
      "text/plain": [
       "(160, list)"
      ]
     },
     "execution_count": 38,
     "metadata": {},
     "output_type": "execute_result"
    }
   ],
   "source": [
    "# use set method to only include the pages that are crossed referenced\n",
    "cross_access = list(set(a) & set(b))\n",
    "# check the number of pages to clarify\n",
    "len(cross_access), type(cross_access)"
   ]
  },
  {
   "cell_type": "code",
   "execution_count": 39,
   "metadata": {},
   "outputs": [
    {
     "data": {
      "text/html": [
       "<div>\n",
       "<style scoped>\n",
       "    .dataframe tbody tr th:only-of-type {\n",
       "        vertical-align: middle;\n",
       "    }\n",
       "\n",
       "    .dataframe tbody tr th {\n",
       "        vertical-align: top;\n",
       "    }\n",
       "\n",
       "    .dataframe thead th {\n",
       "        text-align: right;\n",
       "    }\n",
       "</style>\n",
       "<table border=\"1\" class=\"dataframe\">\n",
       "  <thead>\n",
       "    <tr style=\"text-align: right;\">\n",
       "      <th></th>\n",
       "      <th>page</th>\n",
       "      <th>user_id</th>\n",
       "      <th>cohort_id</th>\n",
       "      <th>ip</th>\n",
       "      <th>name</th>\n",
       "      <th>start_date</th>\n",
       "      <th>end_date</th>\n",
       "      <th>program_id</th>\n",
       "      <th>days_active</th>\n",
       "      <th>program_length</th>\n",
       "      <th>post_access</th>\n",
       "    </tr>\n",
       "    <tr>\n",
       "      <th>date</th>\n",
       "      <th></th>\n",
       "      <th></th>\n",
       "      <th></th>\n",
       "      <th></th>\n",
       "      <th></th>\n",
       "      <th></th>\n",
       "      <th></th>\n",
       "      <th></th>\n",
       "      <th></th>\n",
       "      <th></th>\n",
       "      <th></th>\n",
       "    </tr>\n",
       "  </thead>\n",
       "  <tbody>\n",
       "    <tr>\n",
       "      <th>2020-01-01 15:35:12</th>\n",
       "      <td>search/search_index.json</td>\n",
       "      <td>476</td>\n",
       "      <td>34</td>\n",
       "      <td>136.50.49.145</td>\n",
       "      <td>Bayes</td>\n",
       "      <td>2019-08-19</td>\n",
       "      <td>2020-01-30</td>\n",
       "      <td>3</td>\n",
       "      <td>135</td>\n",
       "      <td>164</td>\n",
       "      <td>-29</td>\n",
       "    </tr>\n",
       "    <tr>\n",
       "      <th>2020-01-01 15:36:03</th>\n",
       "      <td>search/search_index.json</td>\n",
       "      <td>476</td>\n",
       "      <td>34</td>\n",
       "      <td>136.50.49.145</td>\n",
       "      <td>Bayes</td>\n",
       "      <td>2019-08-19</td>\n",
       "      <td>2020-01-30</td>\n",
       "      <td>3</td>\n",
       "      <td>135</td>\n",
       "      <td>164</td>\n",
       "      <td>-29</td>\n",
       "    </tr>\n",
       "    <tr>\n",
       "      <th>2020-01-01 16:39:53</th>\n",
       "      <td>search/search_index.json</td>\n",
       "      <td>476</td>\n",
       "      <td>34</td>\n",
       "      <td>136.50.49.145</td>\n",
       "      <td>Bayes</td>\n",
       "      <td>2019-08-19</td>\n",
       "      <td>2020-01-30</td>\n",
       "      <td>3</td>\n",
       "      <td>135</td>\n",
       "      <td>164</td>\n",
       "      <td>-29</td>\n",
       "    </tr>\n",
       "    <tr>\n",
       "      <th>2020-01-01 21:23:47</th>\n",
       "      <td>4-python/7.2-intro-to-matplotlib</td>\n",
       "      <td>18</td>\n",
       "      <td>22</td>\n",
       "      <td>45.20.117.182</td>\n",
       "      <td>Teddy</td>\n",
       "      <td>2018-01-08</td>\n",
       "      <td>2018-05-17</td>\n",
       "      <td>2</td>\n",
       "      <td>723</td>\n",
       "      <td>129</td>\n",
       "      <td>594</td>\n",
       "    </tr>\n",
       "    <tr>\n",
       "      <th>2020-01-01 21:24:04</th>\n",
       "      <td>4-python/7.3-intro-to-numpy</td>\n",
       "      <td>18</td>\n",
       "      <td>22</td>\n",
       "      <td>45.20.117.182</td>\n",
       "      <td>Teddy</td>\n",
       "      <td>2018-01-08</td>\n",
       "      <td>2018-05-17</td>\n",
       "      <td>2</td>\n",
       "      <td>723</td>\n",
       "      <td>129</td>\n",
       "      <td>594</td>\n",
       "    </tr>\n",
       "    <tr>\n",
       "      <th>...</th>\n",
       "      <td>...</td>\n",
       "      <td>...</td>\n",
       "      <td>...</td>\n",
       "      <td>...</td>\n",
       "      <td>...</td>\n",
       "      <td>...</td>\n",
       "      <td>...</td>\n",
       "      <td>...</td>\n",
       "      <td>...</td>\n",
       "      <td>...</td>\n",
       "      <td>...</td>\n",
       "    </tr>\n",
       "    <tr>\n",
       "      <th>2020-11-02 15:47:40</th>\n",
       "      <td>search/search_index.json</td>\n",
       "      <td>733</td>\n",
       "      <td>61</td>\n",
       "      <td>107.77.220.169</td>\n",
       "      <td>Bash</td>\n",
       "      <td>2020-07-20</td>\n",
       "      <td>2021-01-21</td>\n",
       "      <td>2</td>\n",
       "      <td>105</td>\n",
       "      <td>185</td>\n",
       "      <td>-80</td>\n",
       "    </tr>\n",
       "    <tr>\n",
       "      <th>2020-11-02 15:57:25</th>\n",
       "      <td>search/search_index.json</td>\n",
       "      <td>616</td>\n",
       "      <td>55</td>\n",
       "      <td>70.114.9.241</td>\n",
       "      <td>Curie</td>\n",
       "      <td>2020-02-03</td>\n",
       "      <td>2020-07-07</td>\n",
       "      <td>3</td>\n",
       "      <td>273</td>\n",
       "      <td>155</td>\n",
       "      <td>118</td>\n",
       "    </tr>\n",
       "    <tr>\n",
       "      <th>2020-11-02 15:57:29</th>\n",
       "      <td>fundamentals/git</td>\n",
       "      <td>616</td>\n",
       "      <td>55</td>\n",
       "      <td>70.114.9.241</td>\n",
       "      <td>Curie</td>\n",
       "      <td>2020-02-03</td>\n",
       "      <td>2020-07-07</td>\n",
       "      <td>3</td>\n",
       "      <td>273</td>\n",
       "      <td>155</td>\n",
       "      <td>118</td>\n",
       "    </tr>\n",
       "    <tr>\n",
       "      <th>2020-11-02 16:12:31</th>\n",
       "      <td>search/search_index.json</td>\n",
       "      <td>760</td>\n",
       "      <td>62</td>\n",
       "      <td>72.190.235.36</td>\n",
       "      <td>Jupiter</td>\n",
       "      <td>2020-09-21</td>\n",
       "      <td>2021-03-30</td>\n",
       "      <td>2</td>\n",
       "      <td>42</td>\n",
       "      <td>190</td>\n",
       "      <td>-148</td>\n",
       "    </tr>\n",
       "    <tr>\n",
       "      <th>2020-11-02 16:12:32</th>\n",
       "      <td>search/search_index.json</td>\n",
       "      <td>760</td>\n",
       "      <td>62</td>\n",
       "      <td>72.190.235.36</td>\n",
       "      <td>Jupiter</td>\n",
       "      <td>2020-09-21</td>\n",
       "      <td>2021-03-30</td>\n",
       "      <td>2</td>\n",
       "      <td>42</td>\n",
       "      <td>190</td>\n",
       "      <td>-148</td>\n",
       "    </tr>\n",
       "  </tbody>\n",
       "</table>\n",
       "<p>31885 rows × 11 columns</p>\n",
       "</div>"
      ],
      "text/plain": [
       "                                                 page  user_id  cohort_id  \\\n",
       "date                                                                        \n",
       "2020-01-01 15:35:12          search/search_index.json      476         34   \n",
       "2020-01-01 15:36:03          search/search_index.json      476         34   \n",
       "2020-01-01 16:39:53          search/search_index.json      476         34   \n",
       "2020-01-01 21:23:47  4-python/7.2-intro-to-matplotlib       18         22   \n",
       "2020-01-01 21:24:04       4-python/7.3-intro-to-numpy       18         22   \n",
       "...                                               ...      ...        ...   \n",
       "2020-11-02 15:47:40          search/search_index.json      733         61   \n",
       "2020-11-02 15:57:25          search/search_index.json      616         55   \n",
       "2020-11-02 15:57:29                  fundamentals/git      616         55   \n",
       "2020-11-02 16:12:31          search/search_index.json      760         62   \n",
       "2020-11-02 16:12:32          search/search_index.json      760         62   \n",
       "\n",
       "                                 ip     name start_date   end_date  \\\n",
       "date                                                                 \n",
       "2020-01-01 15:35:12   136.50.49.145    Bayes 2019-08-19 2020-01-30   \n",
       "2020-01-01 15:36:03   136.50.49.145    Bayes 2019-08-19 2020-01-30   \n",
       "2020-01-01 16:39:53   136.50.49.145    Bayes 2019-08-19 2020-01-30   \n",
       "2020-01-01 21:23:47   45.20.117.182    Teddy 2018-01-08 2018-05-17   \n",
       "2020-01-01 21:24:04   45.20.117.182    Teddy 2018-01-08 2018-05-17   \n",
       "...                             ...      ...        ...        ...   \n",
       "2020-11-02 15:47:40  107.77.220.169     Bash 2020-07-20 2021-01-21   \n",
       "2020-11-02 15:57:25    70.114.9.241    Curie 2020-02-03 2020-07-07   \n",
       "2020-11-02 15:57:29    70.114.9.241    Curie 2020-02-03 2020-07-07   \n",
       "2020-11-02 16:12:31   72.190.235.36  Jupiter 2020-09-21 2021-03-30   \n",
       "2020-11-02 16:12:32   72.190.235.36  Jupiter 2020-09-21 2021-03-30   \n",
       "\n",
       "                     program_id  days_active  program_length  post_access  \n",
       "date                                                                       \n",
       "2020-01-01 15:35:12           3          135             164          -29  \n",
       "2020-01-01 15:36:03           3          135             164          -29  \n",
       "2020-01-01 16:39:53           3          135             164          -29  \n",
       "2020-01-01 21:23:47           2          723             129          594  \n",
       "2020-01-01 21:24:04           2          723             129          594  \n",
       "...                         ...          ...             ...          ...  \n",
       "2020-11-02 15:47:40           2          105             185          -80  \n",
       "2020-11-02 15:57:25           3          273             155          118  \n",
       "2020-11-02 15:57:29           3          273             155          118  \n",
       "2020-11-02 16:12:31           2           42             190         -148  \n",
       "2020-11-02 16:12:32           2           42             190         -148  \n",
       "\n",
       "[31885 rows x 11 columns]"
      ]
     },
     "execution_count": 39,
     "metadata": {},
     "output_type": "execute_result"
    }
   ],
   "source": [
    "# all cross accessed observations (df) from 2020 till most recent\n",
    "cross_obs = df['2020':][(df['2020':].page.isin(wd['2020':].page)) & (df['2020':].page.isin(ds['2020':].page))]\n",
    "# remove staff\n",
    "cross_obs = cross_obs[cross_obs.name != 'Staff']\n",
    "cross_obs"
   ]
  },
  {
   "cell_type": "code",
   "execution_count": 40,
   "metadata": {},
   "outputs": [
    {
     "data": {
      "text/plain": [
       "685    1795\n",
       "689    1271\n",
       "698    1200\n",
       "581    1197\n",
       "688    1002\n",
       "       ... \n",
       "451       1\n",
       "333       1\n",
       "607       1\n",
       "439       1\n",
       "470       1\n",
       "Name: user_id, Length: 330, dtype: int64"
      ]
     },
     "execution_count": 40,
     "metadata": {},
     "output_type": "execute_result"
    }
   ],
   "source": [
    "# users cross referencing and count\n",
    "cross_obs.user_id.value_counts()"
   ]
  },
  {
   "cell_type": "code",
   "execution_count": 41,
   "metadata": {},
   "outputs": [
    {
     "data": {
      "text/plain": [
       "Darden        16176\n",
       "Curie          5357\n",
       "Apex           1922\n",
       "Ganymede       1595\n",
       "Fortuna        1487\n",
       "Bayes          1442\n",
       "Hyperion       1025\n",
       "Europa          892\n",
       "Bash            662\n",
       "Deimos          565\n",
       "Ceres           235\n",
       "Jupiter         231\n",
       "Betelgeuse       83\n",
       "Andromeda        68\n",
       "Teddy            47\n",
       "Zion             30\n",
       "Voyageurs        18\n",
       "Sequoia          15\n",
       "Xanadu           15\n",
       "Yosemite          7\n",
       "Ulysses           5\n",
       "Pinnacles         3\n",
       "Wrangell          3\n",
       "Olympic           1\n",
       "Lassen            1\n",
       "Name: name, dtype: int64"
      ]
     },
     "execution_count": 41,
     "metadata": {},
     "output_type": "execute_result"
    }
   ],
   "source": [
    "# cohorts\n",
    "cross_obs.name.value_counts()"
   ]
  },
  {
   "cell_type": "markdown",
   "metadata": {},
   "source": [
    "---\n",
    "<div class=\"alert alert-block alert-info\">6. What topics are grads continuing to reference after graduation and into their jobs (for each program)?</div>"
   ]
  },
  {
   "cell_type": "code",
   "execution_count": 42,
   "metadata": {},
   "outputs": [],
   "source": [
    "# filters df for observations only after graduation date\n",
    "post_access_wd = wd[(wd.index > wd.end_date)]\n",
    "post_access_ds = ds[(ds.index > ds.end_date)]"
   ]
  },
  {
   "cell_type": "markdown",
   "metadata": {},
   "source": [
    "### Web Development"
   ]
  },
  {
   "cell_type": "code",
   "execution_count": 43,
   "metadata": {},
   "outputs": [
    {
     "data": {
      "text/plain": [
       "javascript-i    2541\n",
       "spring          2455\n",
       "html-css        1948\n",
       "java-i          1901\n",
       "java-ii         1837\n",
       "Name: page, dtype: int64"
      ]
     },
     "execution_count": 43,
     "metadata": {},
     "output_type": "execute_result"
    }
   ],
   "source": [
    "post_access_wd.page.value_counts().head()"
   ]
  },
  {
   "cell_type": "markdown",
   "metadata": {},
   "source": [
    "### Data Science"
   ]
  },
  {
   "cell_type": "code",
   "execution_count": 44,
   "metadata": {},
   "outputs": [
    {
     "data": {
      "text/plain": [
       "sql/mysql-overview                          102\n",
       "1-fundamentals/1.1-intro-to-data-science    102\n",
       "classification/overview                     100\n",
       "6-regression/1-overview                      86\n",
       "10-anomaly-detection/1-overview              69\n",
       "Name: page, dtype: int64"
      ]
     },
     "execution_count": 44,
     "metadata": {},
     "output_type": "execute_result"
    }
   ],
   "source": [
    "post_access_ds.page.value_counts()[3:8]"
   ]
  },
  {
   "cell_type": "markdown",
   "metadata": {},
   "source": [
    "---\n",
    "<div class=\"alert alert-block alert-info\">7. Which lessons are least accessed?</div>"
   ]
  },
  {
   "cell_type": "markdown",
   "metadata": {},
   "source": [
    "### Web Development"
   ]
  },
  {
   "cell_type": "code",
   "execution_count": 45,
   "metadata": {},
   "outputs": [
    {
     "data": {
      "text/plain": [
       "advanced-topics/styling-webpages    1\n",
       "capstone/54                         1\n",
       "sql/temporary-tables                1\n",
       "classification/knn                  1\n",
       "appendix/cli/2-listing-files        1\n",
       "4-python/intro-to-sklearn           1\n",
       "4_Matplotlib_Styles                 1\n",
       "student/create                      1\n",
       "nlp/overview                        1\n",
       "7.04.01_Partitioning                1\n",
       "Name: page, dtype: int64"
      ]
     },
     "execution_count": 45,
     "metadata": {},
     "output_type": "execute_result"
    }
   ],
   "source": [
    "wd.page.value_counts().tail(10)"
   ]
  },
  {
   "cell_type": "markdown",
   "metadata": {},
   "source": [
    "### Data Science"
   ]
  },
  {
   "cell_type": "code",
   "execution_count": 46,
   "metadata": {},
   "outputs": [
    {
     "data": {
      "text/plain": [
       "12-distributed-ml/3-getting-started               1\n",
       "12-distributed-ml/6.3-prepare-part-3              1\n",
       "Hospital-Distance-Clusters.jpg                    1\n",
       "appendix/open_data/www.databasefootball.com       1\n",
       "appendix/open_data/www.flickr.com/services/api    1\n",
       "stats-assessment                                  1\n",
       "database-design                                   1\n",
       "itc%20-%20ml                                      1\n",
       "b-clustering/project                              1\n",
       "grades                                            1\n",
       "Name: page, dtype: int64"
      ]
     },
     "execution_count": 46,
     "metadata": {},
     "output_type": "execute_result"
    }
   ],
   "source": [
    "ds.page.value_counts().tail(10)"
   ]
  },
  {
   "cell_type": "markdown",
   "metadata": {},
   "source": [
    "---\n",
    "<div class=\"alert alert-block alert-info\">8. Others?</div>"
   ]
  },
  {
   "cell_type": "code",
   "execution_count": 47,
   "metadata": {},
   "outputs": [
    {
     "data": {
      "text/plain": [
       "[64, 644, 375, 346, 358, 88, 663]"
      ]
     },
     "execution_count": 47,
     "metadata": {},
     "output_type": "execute_result"
    }
   ],
   "source": [
    "# users in original df that coincide with user_ids from the unknown cohort df\n",
    "weird_users"
   ]
  },
  {
   "cell_type": "code",
   "execution_count": 48,
   "metadata": {},
   "outputs": [
    {
     "data": {
      "text/plain": [
       "(75, 68, 7)"
      ]
     },
     "execution_count": 48,
     "metadata": {},
     "output_type": "execute_result"
    }
   ],
   "source": [
    "# made a list called non-users that stores the user_ids of those who don't have a user id\n",
    "# that matches one with a cohort from the original data\n",
    "# show the number of each type of user\n",
    "non_users = []\n",
    "for n in no_id_users:\n",
    "    if n not in weird_users:\n",
    "        non_users.append(n)\n",
    "len(no_id_users), len(non_users), len(weird_users)"
   ]
  },
  {
   "cell_type": "code",
   "execution_count": 49,
   "metadata": {},
   "outputs": [],
   "source": [
    "# filter original df to only include users' activity from the unknown df \n",
    "weird_activity = df[df.user_id.isin(weird_users)]"
   ]
  },
  {
   "cell_type": "code",
   "execution_count": 50,
   "metadata": {},
   "outputs": [
    {
     "data": {
      "text/html": [
       "<div>\n",
       "<style scoped>\n",
       "    .dataframe tbody tr th:only-of-type {\n",
       "        vertical-align: middle;\n",
       "    }\n",
       "\n",
       "    .dataframe tbody tr th {\n",
       "        vertical-align: top;\n",
       "    }\n",
       "\n",
       "    .dataframe thead th {\n",
       "        text-align: right;\n",
       "    }\n",
       "</style>\n",
       "<table border=\"1\" class=\"dataframe\">\n",
       "  <thead>\n",
       "    <tr style=\"text-align: right;\">\n",
       "      <th></th>\n",
       "      <th></th>\n",
       "      <th>0</th>\n",
       "    </tr>\n",
       "    <tr>\n",
       "      <th>user_id</th>\n",
       "      <th>name</th>\n",
       "      <th></th>\n",
       "    </tr>\n",
       "  </thead>\n",
       "  <tbody>\n",
       "    <tr>\n",
       "      <th rowspan=\"2\" valign=\"top\">64</th>\n",
       "      <th>Arches</th>\n",
       "      <td>3538</td>\n",
       "    </tr>\n",
       "    <tr>\n",
       "      <th>Europa</th>\n",
       "      <td>14</td>\n",
       "    </tr>\n",
       "    <tr>\n",
       "      <th rowspan=\"3\" valign=\"top\">88</th>\n",
       "      <th>Glacier</th>\n",
       "      <td>326</td>\n",
       "    </tr>\n",
       "    <tr>\n",
       "      <th>Ike</th>\n",
       "      <td>5</td>\n",
       "    </tr>\n",
       "    <tr>\n",
       "      <th>Joshua</th>\n",
       "      <td>9</td>\n",
       "    </tr>\n",
       "    <tr>\n",
       "      <th rowspan=\"2\" valign=\"top\">346</th>\n",
       "      <th>Sequoia</th>\n",
       "      <td>49</td>\n",
       "    </tr>\n",
       "    <tr>\n",
       "      <th>Zion</th>\n",
       "      <td>1470</td>\n",
       "    </tr>\n",
       "    <tr>\n",
       "      <th>358</th>\n",
       "      <th>Bayes</th>\n",
       "      <td>1051</td>\n",
       "    </tr>\n",
       "    <tr>\n",
       "      <th>375</th>\n",
       "      <th>Andromeda</th>\n",
       "      <td>1553</td>\n",
       "    </tr>\n",
       "    <tr>\n",
       "      <th>644</th>\n",
       "      <th>Ganymede</th>\n",
       "      <td>1622</td>\n",
       "    </tr>\n",
       "    <tr>\n",
       "      <th>663</th>\n",
       "      <th>Hyperion</th>\n",
       "      <td>270</td>\n",
       "    </tr>\n",
       "  </tbody>\n",
       "</table>\n",
       "</div>"
      ],
      "text/plain": [
       "                      0\n",
       "user_id name           \n",
       "64      Arches     3538\n",
       "        Europa       14\n",
       "88      Glacier     326\n",
       "        Ike           5\n",
       "        Joshua        9\n",
       "346     Sequoia      49\n",
       "        Zion       1470\n",
       "358     Bayes      1051\n",
       "375     Andromeda  1553\n",
       "644     Ganymede   1622\n",
       "663     Hyperion    270"
      ]
     },
     "execution_count": 50,
     "metadata": {},
     "output_type": "execute_result"
    }
   ],
   "source": [
    "# looking at the users with what cohort they'd coincide with\n",
    "pd.DataFrame(weird_activity.groupby(['user_id', 'name']).size())"
   ]
  },
  {
   "cell_type": "code",
   "execution_count": 51,
   "metadata": {},
   "outputs": [
    {
     "data": {
      "text/plain": [
       "user_id\n",
       "644     1\n",
       "663     2\n",
       "358     6\n",
       "64     10\n",
       "88     16\n",
       "375    20\n",
       "346    21\n",
       "Name: ip, dtype: int64"
      ]
     },
     "execution_count": 51,
     "metadata": {},
     "output_type": "execute_result"
    }
   ],
   "source": [
    "# shows the number of unique ip addresses for each of the weird users (users that have matching cohort information))\n",
    "weird_activity.groupby('user_id').ip.nunique().sort_values()"
   ]
  },
  {
   "cell_type": "code",
   "execution_count": 52,
   "metadata": {},
   "outputs": [
    {
     "data": {
      "text/plain": [
       "user_id\n",
       "349     9\n",
       "403     9\n",
       "86     10\n",
       "716    10\n",
       "58     11\n",
       "79     12\n",
       "367    12\n",
       "362    12\n",
       "354    12\n",
       "368    14\n",
       "355    14\n",
       "353    14\n",
       "429    16\n",
       "369    19\n",
       "111    29\n",
       "Name: ip, dtype: int64"
      ]
     },
     "execution_count": 52,
     "metadata": {},
     "output_type": "execute_result"
    }
   ],
   "source": [
    "# shows the number of unique ip addresses for each of the non-users (users that have no other information)\n",
    "no_id[no_id.user_id.isin(non_users)].groupby('user_id').ip.nunique().sort_values().tail(15)"
   ]
  },
  {
   "cell_type": "markdown",
   "metadata": {},
   "source": [
    ">**Summary**\n",
    "- looking further in to the data with no cohort_id, I've discovered that many of these users have multiple ip addresses (ranging from 1 to 29). It seems fishy to have any more than 5 ip addresses. These candidates who have several may be web scrapping the curriculum.\n",
    "- I split these candidates into two groups\n",
    "    - weird users (7): \n",
    "        - users that have matching cohort information within the 'df' dataframe\n",
    "    - non-users (68): \n",
    "        - users that have no other information besides, user_id, ip_address, page viewed and the time stamp"
   ]
  },
  {
   "cell_type": "code",
   "execution_count": null,
   "metadata": {},
   "outputs": [],
   "source": []
  }
 ],
 "metadata": {
  "kernelspec": {
   "display_name": "Python 3",
   "language": "python",
   "name": "python3"
  },
  "language_info": {
   "codemirror_mode": {
    "name": "ipython",
    "version": 3
   },
   "file_extension": ".py",
   "mimetype": "text/x-python",
   "name": "python",
   "nbconvert_exporter": "python",
   "pygments_lexer": "ipython3",
   "version": "3.7.6"
  }
 },
 "nbformat": 4,
 "nbformat_minor": 4
}
